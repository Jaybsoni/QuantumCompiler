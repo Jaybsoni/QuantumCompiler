{
 "cells": [
  {
   "cell_type": "code",
   "execution_count": 1,
   "metadata": {},
   "outputs": [
    {
     "data": {
      "text/html": [
       "<pre style=\"word-wrap: normal;white-space: pre;background: #fff0;line-height: 1.1;font-family: &quot;Courier New&quot;,Courier,monospace\">     ┌───┐┌───┐┌───┐┌───┐┌───┐┌──────────┐┌──────────┐┌──────────┐        \n",
       "q_0: ┤ I ├┤ H ├┤ X ├┤ Y ├┤ Z ├┤ RX(pi/2) ├┤ RY(pi/2) ├┤ RZ(pi/2) ├──■───■─\n",
       "     └───┘└───┘└───┘└───┘└───┘└──────────┘└──────────┘└──────────┘  │   │ \n",
       "q_1: ───────────────────────────────────────────────────────────────┼───┼─\n",
       "                                                                  ┌─┴─┐ │ \n",
       "q_2: ─────────────────────────────────────────────────────────────┤ X ├─■─\n",
       "                                                                  └───┘   </pre>"
      ],
      "text/plain": [
       "     ┌───┐┌───┐┌───┐┌───┐┌───┐┌──────────┐┌──────────┐┌──────────┐        \n",
       "q_0: ┤ I ├┤ H ├┤ X ├┤ Y ├┤ Z ├┤ RX(pi/2) ├┤ RY(pi/2) ├┤ RZ(pi/2) ├──■───■─\n",
       "     └───┘└───┘└───┘└───┘└───┘└──────────┘└──────────┘└──────────┘  │   │ \n",
       "q_1: ───────────────────────────────────────────────────────────────┼───┼─\n",
       "                                                                  ┌─┴─┐ │ \n",
       "q_2: ─────────────────────────────────────────────────────────────┤ X ├─■─\n",
       "                                                                  └───┘   "
      ]
     },
     "execution_count": 1,
     "metadata": {},
     "output_type": "execute_result"
    }
   ],
   "source": [
    "from qiskit import * \n",
    "import numpy as np\n",
    "\n",
    "circ = qiskit.QuantumCircuit(3)\n",
    "circ.i(0)\n",
    "circ.h(0)\n",
    "circ.x(0)\n",
    "circ.y(0)\n",
    "circ.z(0)\n",
    "circ.rx(np.pi/2, 0)\n",
    "circ.ry(np.pi/2, 0)\n",
    "circ.rz(np.pi/2, 0)\n",
    "circ.cx(0, 2)\n",
    "circ.cz(0, 2)\n",
    "\n",
    "circ.draw()"
   ]
  },
  {
   "cell_type": "code",
   "execution_count": null,
   "metadata": {},
   "outputs": [],
   "source": []
  }
 ],
 "metadata": {
  "kernelspec": {
   "display_name": "Python 3",
   "language": "python",
   "name": "python3"
  },
  "language_info": {
   "codemirror_mode": {
    "name": "ipython",
    "version": 3
   },
   "file_extension": ".py",
   "mimetype": "text/x-python",
   "name": "python",
   "nbconvert_exporter": "python",
   "pygments_lexer": "ipython3",
   "version": "3.7.4"
  }
 },
 "nbformat": 4,
 "nbformat_minor": 2
}
